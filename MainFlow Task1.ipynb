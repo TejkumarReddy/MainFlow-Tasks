{
 "cells": [
  {
   "cell_type": "code",
   "execution_count": 10,
   "id": "802cea52",
   "metadata": {},
   "outputs": [
    {
     "name": "stdout",
     "output_type": "stream",
     "text": [
      "[0, 4, 5, 6, 7]\n"
     ]
    }
   ],
   "source": [
    "#Creating List\n",
    "l=list()\n",
    "\n",
    "#Initializing Elements\n",
    "l=[1,2,3,4,5]\n",
    "\n",
    "#Adding Elements into List\n",
    "l.append(6)\n",
    "l.append(7)\n",
    "\n",
    "#Removing Elements\n",
    "l.pop(1)\n",
    "l.remove(3)\n",
    "\n",
    "#Modify Elements\n",
    "l[0]=0\n",
    "\n",
    "#Print List\n",
    "print(l)"
   ]
  },
  {
   "cell_type": "code",
   "execution_count": 24,
   "id": "3803049b",
   "metadata": {},
   "outputs": [
    {
     "name": "stdout",
     "output_type": "stream",
     "text": [
      "{4, 5, 6, 7, 8, 9}\n"
     ]
    }
   ],
   "source": [
    "#Creating Set\n",
    "s=set()\n",
    "\n",
    "#Initializing Elements\n",
    "s={1,2,3,4,5}\n",
    "\n",
    "#Adding Elements into set\n",
    "s.add(6)\n",
    "s.add(7)\n",
    "\n",
    "#Removing Elements\n",
    "s.pop()\n",
    "s.remove(3)\n",
    "s.discard(2)\n",
    "\n",
    "#Modify Elements\n",
    "s.update([7,8,9])\n",
    "\n",
    "#Print Set\n",
    "print(s)"
   ]
  },
  {
   "cell_type": "code",
   "execution_count": 31,
   "id": "c71547d5",
   "metadata": {},
   "outputs": [
    {
     "name": "stdout",
     "output_type": "stream",
     "text": [
      "{'D': 'Data', 'S': 'Science', 'B': 'Bat'}\n"
     ]
    }
   ],
   "source": [
    "#creating Dictionary\n",
    "d=dict()\n",
    "\n",
    "#Initializing Elements\n",
    "d={'D':'Data','S':'Science','A':'Algorithms'}\n",
    "\n",
    "#Adding Elements into Dictionary\n",
    "d['A']='Apple'\n",
    "d['B']='Ball'\n",
    "\n",
    "#Removing Elements\n",
    "d.pop('A')\n",
    "\n",
    "#Modify Elements\n",
    "d['B']='Bat'\n",
    "\n",
    "#Print Dictionary\n",
    "print(d)"
   ]
  },
  {
   "cell_type": "code",
   "execution_count": null,
   "id": "b36ca23c",
   "metadata": {},
   "outputs": [],
   "source": []
  }
 ],
 "metadata": {
  "kernelspec": {
   "display_name": "Python 3 (ipykernel)",
   "language": "python",
   "name": "python3"
  },
  "language_info": {
   "codemirror_mode": {
    "name": "ipython",
    "version": 3
   },
   "file_extension": ".py",
   "mimetype": "text/x-python",
   "name": "python",
   "nbconvert_exporter": "python",
   "pygments_lexer": "ipython3",
   "version": "3.11.4"
  }
 },
 "nbformat": 4,
 "nbformat_minor": 5
}
